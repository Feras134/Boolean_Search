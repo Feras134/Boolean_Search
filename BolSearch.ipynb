{
 "cells": [
  {
   "cell_type": "code",
   "execution_count": 1,
   "id": "2807248c-f75d-4c0d-af9b-2cc37b507721",
   "metadata": {},
   "outputs": [],
   "source": [
    "import json\n",
    "import time"
   ]
  },
  {
   "cell_type": "code",
   "execution_count": 3,
   "id": "10b7612f-dcea-4f9d-8c17-61663ef6cb73",
   "metadata": {},
   "outputs": [],
   "source": [
    "def tokenization(text):\n",
    "    text = text.lower()\n",
    "    punctuation = '.,!?;:\"()[]{}'\n",
    "    for char in punctuation:\n",
    "        text = text.replace(char, ' ')\n",
    "    return text.split()"
   ]
  },
  {
   "cell_type": "code",
   "execution_count": 10,
   "id": "e5fd1264-c5ba-4911-871d-7134ee06ba24",
   "metadata": {},
   "outputs": [],
   "source": [
    "def Index_Creation(corpus):\n",
    "    inverted_index = {}\n",
    "    for doc_id, document in enumerate(corpus):\n",
    "        words = tokenization(document)\n",
    "        for word in words:\n",
    "            if word not in inverted_index:\n",
    "                inverted_index[word] = []\n",
    "            if doc_id not in inverted_index[word]:\n",
    "                inverted_index[word].append(doc_id)\n",
    "    return inverted_index"
   ]
  },
  {
   "cell_type": "code",
   "execution_count": 11,
   "id": "15f827f2-b3eb-4663-a155-61326a1bf1a8",
   "metadata": {},
   "outputs": [],
   "source": [
    "def Boolean_Search(query, index):\n",
    "    query = query.lower().strip()\n",
    "    keywords = query.split()  # Space means OR\n",
    "    matches = set()\n",
    "    \n",
    "    for keyword in keywords:\n",
    "        if '&' in keyword:\n",
    "            sub_keywords = keyword.split('&')\n",
    "            if sub_keywords[0] in index:\n",
    "                and_matches = set(index[sub_keywords[0]])\n",
    "            else:\n",
    "                and_matches = set()\n",
    "                \n",
    "            for sub in sub_keywords[1:]:\n",
    "                and_matches = and_matches.intersection(set(index.get(sub, [])))\n",
    "                \n",
    "            matches = matches.union(and_matches)\n",
    "        else:\n",
    "            matches = matches.union(set(index.get(keyword, [])))\n",
    "    \n",
    "    return list(matches)\n"
   ]
  },
  {
   "cell_type": "code",
   "execution_count": 14,
   "id": "a6445645-f11e-4990-bcba-198d20c2e21f",
   "metadata": {},
   "outputs": [],
   "source": [
    "def load_dataset(file_path):\n",
    "    corpus = []\n",
    "    try:\n",
    "        with open(file_path, 'r') as file:\n",
    "            for line in file:\n",
    "                try:\n",
    "                    data = json.loads(line)\n",
    "                    if \"short_description\" in data:\n",
    "                        corpus.append(data[\"short_description\"])\n",
    "                except json.JSONDecodeError:\n",
    "                    continue\n",
    "    except FileNotFoundError:\n",
    "        print(\"File not found:\", file_path)\n",
    "    return corpus"
   ]
  },
  {
   "cell_type": "code",
   "execution_count": 18,
   "id": "ae0f550d-1036-4dac-bb8e-a68238825664",
   "metadata": {},
   "outputs": [
    {
     "name": "stdout",
     "output_type": "stream",
     "text": [
      "Query: king&salman, Results: 8, Time: 161.80 µs\n",
      "Query: football basketball, Results: 444, Time: 185.80 µs\n",
      "Query: iphone ipad, Results: 179, Time: 89.10 µs\n",
      "Query: artificial&intelligence, Results: 14, Time: 65.30 µs\n",
      "Query: covid vaccine, Results: 121, Time: 50.60 µs\n"
     ]
    }
   ],
   "source": [
    "def experiment(queries, index):\n",
    "    timings = []\n",
    "    for query in queries:\n",
    "        start_time = time.perf_counter()\n",
    "        search_results = Boolean_Search(query, index)\n",
    "        end_time = time.perf_counter()\n",
    "        timings.append({\n",
    "            \"query\": query,\n",
    "            \"num_results\": len(search_results),\n",
    "            \"time_microseconds\": (end_time - start_time) *10**6\n",
    "        })\n",
    "    return timings\n",
    "\n",
    "if __name__ == \"__main__\":\n",
    "    data_collection = load_dataset(\"news.json\")\n",
    "    term_index = Index_Creation(data_collection)\n",
    "    \n",
    "    sample_queries = [\n",
    "        \"king&salman\",\n",
    "        \"football basketball\",\n",
    "        \"iphone ipad\",\n",
    "        \"artificial&intelligence\",\n",
    "        \"covid vaccine\"\n",
    "    ]\n",
    "    \n",
    "    experiment_results = experiment(sample_queries, term_index)\n",
    "\n",
    "    for result in experiment_results:\n",
    "        print(\"Query: {}, Results: {}, Time: {:.2f} µs\".format(\n",
    "            result[\"query\"], result[\"num_results\"], result[\"time_microseconds\"]))\n"
   ]
  },
  {
   "cell_type": "code",
   "execution_count": null,
   "id": "a080231d-88a1-4297-9317-f3449e5cd118",
   "metadata": {},
   "outputs": [],
   "source": []
  }
 ],
 "metadata": {
  "kernelspec": {
   "display_name": "Python 3 (ipykernel)",
   "language": "python",
   "name": "python3"
  },
  "language_info": {
   "codemirror_mode": {
    "name": "ipython",
    "version": 3
   },
   "file_extension": ".py",
   "mimetype": "text/x-python",
   "name": "python",
   "nbconvert_exporter": "python",
   "pygments_lexer": "ipython3",
   "version": "3.12.4"
  }
 },
 "nbformat": 4,
 "nbformat_minor": 5
}
